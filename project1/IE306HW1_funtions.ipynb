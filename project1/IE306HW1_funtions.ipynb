{
 "cells": [
  {
   "cell_type": "code",
   "execution_count": null,
   "id": "2d827478",
   "metadata": {},
   "outputs": [],
   "source": [
    "import random\n",
    "import math"
   ]
  },
  {
   "cell_type": "markdown",
   "id": "b5e9b6ed",
   "metadata": {},
   "source": [
    "We will create all the parameters we need."
   ]
  },
  {
   "cell_type": "code",
   "execution_count": null,
   "id": "c981bd60",
   "metadata": {},
   "outputs": [],
   "source": [
    "seed = 4044800276 # It will be use to generate the same pseudo number over and over again.\n",
    "random.seed(seed)\n",
    "arrival_amount = 1000 # The number of clients that arrive to the hospital.\n",
    "                      # This is used as our simulation is a discrete event simulation.\n",
    "S = 3 # Number of nurses.\n",
    "mu_a = 1.0 # Average patient arrival rate.\n",
    "mu_t = 0.416666667 # Average service rate of each nurse.\n",
    "mu_s = 0.16 # Average healing rate at home for stable patients.\n",
    "mu_ch = 2.0 # Average healing rate at home for critical patients.\n",
    "alpha = 1.0 # Alpha belong to an uniform distribution\n",
    "mu_cb = 0.15625 # Average healing rate at hospital.\n",
    "p1 = 0.25 # The chance of patient going home instead of hospital.\n",
    "hospital_capaticy = 6 # Number of beds in hospital"
   ]
  },
  {
   "cell_type": "markdown",
   "id": "d3121197",
   "metadata": {},
   "source": [
    "Now we will define variables that will be used to run the simulation."
   ]
  },
  {
   "cell_type": "code",
   "execution_count": null,
   "id": "a4069b86",
   "metadata": {},
   "outputs": [],
   "source": [
    "number_of_patients_in_nurse_queue = 0\n",
    "number_of_patients_to_be_evaluated = 0\n",
    "number_of_patients_at_home = 0\n",
    "number_of_patients_at_hospital = 0\n",
    "number_of_patients_to_arrive = arrival_amount"
   ]
  },
  {
   "cell_type": "code",
   "execution_count": null,
   "id": "7297766f",
   "metadata": {
    "lines_to_next_cell": 1
   },
   "outputs": [],
   "source": [
    "def Reverse_EXP_CDF( x, rate): # Make sure x is between 0 and 1.\n",
    "    return -(math.log(1-x)/rate)"
   ]
  },
  {
   "cell_type": "code",
   "execution_count": null,
   "id": "96cc6401",
   "metadata": {
    "lines_to_next_cell": 1
   },
   "outputs": [],
   "source": [
    "def Generate_Interarrival(rate = mu_a): # To return interarrival times of sick people arriving at the hospital.\n",
    "                                       # Default rate is 1 patient per hour on average\n",
    "    return Reverse_EXP_CDF(random.random(),rate)"
   ]
  },
  {
   "cell_type": "code",
   "execution_count": null,
   "id": "e8ddb80b",
   "metadata": {
    "lines_to_next_cell": 1
   },
   "outputs": [],
   "source": [
    "def Generate_Nurse_Service_Time(rate = mu_t): # To return service times for people being served at one of the triage nurses.\n",
    "    return Reverse_EXP_CDF(random.random(),rate) "
   ]
  },
  {
   "cell_type": "code",
   "execution_count": null,
   "id": "3c27e766",
   "metadata": {
    "lines_to_next_cell": 1
   },
   "outputs": [],
   "source": [
    "def Generate_Hospital_Healing_Time(rate = mu_cb): # To return healing times for people being treated in the hospital bed.\n",
    "    return Reverse_EXP_CDF(random.random(),rate) "
   ]
  },
  {
   "cell_type": "code",
   "execution_count": null,
   "id": "0d3e4889",
   "metadata": {
    "lines_to_next_cell": 1
   },
   "outputs": [],
   "source": [
    "def Generate_Home_Healing_Time(type,rate = 1.0):  # To return healing times for people that take self care at\n",
    "                                    # home. The function takes the input s for people that were found to be in stable condition\n",
    "                                    # and sent back home by the triage nurse and the input c for people that were found to be\n",
    "                                    # in critical condition but could not nd a bed.\n",
    "    if(type == 's'):\n",
    "        return Reverse_EXP_CDF(random.random(),mu_s) # For patients in stable condition.\n",
    "    if(type == 'c'):\n",
    "        return Reverse_EXP_CDF(random.random(),mu_cb) # For patients in critical condition."
   ]
  },
  {
   "cell_type": "code",
   "execution_count": null,
   "id": "0363d85e",
   "metadata": {},
   "outputs": [],
   "source": [
    "# Now we will generate the future event list.\n",
    "future_event_list = [] # The list will contain tuples of times and event codes.\n",
    "# Different events have different codes.\n",
    "# 1: arrival\n",
    "# 2: departure triage\n",
    "# 3: treated at hospital\n",
    "# 4: treated at home"
   ]
  },
  {
   "cell_type": "code",
   "execution_count": null,
   "id": "58a0d324",
   "metadata": {},
   "outputs": [],
   "source": []
  },
  {
   "cell_type": "code",
   "execution_count": null,
   "id": "a2b931e3",
   "metadata": {
    "lines_to_next_cell": 1
   },
   "outputs": [],
   "source": [
    "def Add_Event(time,code): # time is the time of the event , code is the type of the event.\n",
    "    future_event_list.append((time,code))\n",
    "    i = len(future_event_list)-1 # This is done to sort things by date.\n",
    "    while(i > 0):\n",
    "        time1,code1 = future_event_list[i]\n",
    "        time2,code2 = future_event_list[i-1]\n",
    "        if(time1 < time2):\n",
    "            future_event_list[i] = (time2,code2)\n",
    "            future_event_list[i-1] = (time1,code1)\n",
    "        i -= 1\n",
    "    return"
   ]
  },
  {
   "cell_type": "code",
   "execution_count": null,
   "id": "38e8a528",
   "metadata": {
    "lines_to_next_cell": 1
   },
   "outputs": [],
   "source": [
    "def Arrival(event_time): # To execute the arrival process of a patient to the hospital. Event code is 1\n",
    "    global number_of_patients_in_nurse_queue\n",
    "    global number_of_patients_to_arrive\n",
    "    global number_of_patients_to_be_evaluated\n",
    "    number_of_patients_to_arrive -= 1\n",
    "    number_of_patients_to_be_evaluated += 1\n",
    "    if number_of_patients_to_arrive > 0:\n",
    "        Add_Event(event_time+Generate_Interarrival(),1) # The arrival of next patient\n",
    "    if(number_of_patients_to_be_evaluated <= S): # If there is enough nurses.\n",
    "        nurse_service_time = Generate_Nurse_Service_Time()\n",
    "        Add_Event(event_time+nurse_service_time,2) # The departure of patient         \n",
    "    else:\n",
    "        number_of_patients_in_nurse_queue += 1 # If all nurses are busy, we put the patient ina waiting queue.It's first in first out."
   ]
  },
  {
   "cell_type": "code",
   "execution_count": null,
   "id": "bded4d77",
   "metadata": {
    "lines_to_next_cell": 1
   },
   "outputs": [],
   "source": [
    "def Departure_Triage(event_time): # To execute the departure process of a customer from a triage nurse. Event code is 2\n",
    "    global alpha\n",
    "    global mu_ch\n",
    "    global number_of_patients_in_nurse_queue\n",
    "    global number_of_patients_to_be_evaluated\n",
    "    global number_of_patients_at_hospital\n",
    "    global number_of_patients_at_home\n",
    "    number_of_patients_to_be_evaluated -= 1\n",
    "\n",
    "    if(random.random() > p1): # To determine whether a patient is n critical condition.\n",
    "        total_number_of_critical_patinets += 1\n",
    "        if(hospital_capaticy >= number_of_patients_at_hospital):\n",
    "            number_of_patients_at_hospital += 1\n",
    "            healing_time = Generate_Hospital_Healing_Time()\n",
    "            Add_Event(event_time+healing_time,3) # The treatment in hospital.\n",
    "        else:\n",
    "            number_of_patients_at_home += 1\n",
    "            total_number_of_critical_patinets_going_home += 1\n",
    "            alpha = random.random()*0.5+1.25\n",
    "            mu_ch = mu_cb * alpha\n",
    "            healing_time = Generate_Home_Healing_Time('c')\n",
    "            Add_Event(event_time+healing_time,4) # The treatment in home due to bed inavaiblitiy. Critical condition.\n",
    "    else:\n",
    "        number_of_patients_at_home += 1\n",
    "        alpha = random.random()*0.5+1.25\n",
    "        mu_ch = mu_cb * alpha\n",
    "        healing_time = Generate_Home_Healing_Time('s')\n",
    "        Add_Event(event_time+healing_time,4) # The treatment in home due to patient contidion. Stable Condition\n",
    "            \n",
    "    # Now we will appoint another departure even for a patient in waiting queue (If there is any).\n",
    "    if number_of_patients_in_nurse_queue > 0:\n",
    "        number_of_patients_in_nurse_queue -= 1 # One less patient in the queue.\n",
    "        nurse_service_time = Generate_Nurse_Service_Time()\n",
    "        Add_Event(event_time+nurse_service_time,2) # Then we appoint a eparture for that patient."
   ]
  },
  {
   "cell_type": "code",
   "execution_count": null,
   "id": "7fe794f1",
   "metadata": {
    "lines_to_next_cell": 1
   },
   "outputs": [],
   "source": [
    "def Treated_at_Hospital(event_time): # To execute the discharge process of a customer from a bed. Event code is 3\n",
    "    global number_of_patients_at_hospital\n",
    "    number_of_patients_at_hospital -= 1"
   ]
  },
  {
   "cell_type": "code",
   "execution_count": null,
   "id": "e5030061",
   "metadata": {
    "lines_to_next_cell": 1
   },
   "outputs": [],
   "source": [
    "def Treated_at_Home(event_time): # To execute the discharge process of a customer from the house. Event code is 4\n",
    "    global number_of_patients_at_home\n",
    "    number_of_patients_at_home -= 1"
   ]
  },
  {
   "cell_type": "code",
   "execution_count": null,
   "id": "29aac82f",
   "metadata": {
    "lines_to_next_cell": 1
   },
   "outputs": [],
   "source": [
    "def Advance_Time(): # To advance the time to the next imminent event in the future event list. Return whether it executed an event or not\n",
    "    if len(future_event_list) == 0:\n",
    "        return False\n",
    "    event_time,event_code = future_event_list.pop(0)\n",
    "    \n",
    "    # Now we will update some total time variables.\n",
    "    # We do this before current time is updated.\n",
    "    \n",
    "    if(event_code == 1):\n",
    "        Arrival(event_time)\n",
    "    if(event_code == 2):\n",
    "        Departure_Triage(event_time)\n",
    "    if(event_code == 3):\n",
    "        Treated_at_Hospital(event_time)\n",
    "    if(event_code == 4):\n",
    "        Treated_at_Home(event_time)\n",
    "    current_time = event_time\n",
    "    return True "
   ]
  },
  {
   "cell_type": "code",
   "execution_count": null,
   "id": "ed7bdc99",
   "metadata": {},
   "outputs": [],
   "source": [
    "def Execute_Event(): # Iterates through the future event list and executes the next imminent process.\n",
    "    # Didn't need to add anything here as advancing time also executes events.\n",
    "    pass"
   ]
  }
 ],
 "metadata": {
  "jupytext": {
   "cell_metadata_filter": "-all",
   "main_language": "python",
   "notebook_metadata_filter": "-all"
  }
 },
 "nbformat": 4,
 "nbformat_minor": 5
}

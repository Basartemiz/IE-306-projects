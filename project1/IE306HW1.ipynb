{
 "cells": [
  {
   "cell_type": "code",
   "execution_count": null,
   "id": "dacc17bd",
   "metadata": {},
   "outputs": [],
   "source": [
    "import numpy # random didn't have normal distibution in it so we had to use numpy\n",
    "import random\n",
    "import math"
   ]
  },
  {
   "cell_type": "markdown",
   "id": "c6322d41",
   "metadata": {},
   "source": [
    "We will create all the parameters we need."
   ]
  },
  {
   "cell_type": "code",
   "execution_count": null,
   "id": "c8fd19d0",
   "metadata": {},
   "outputs": [],
   "source": [
    "run_multiple_times = True # To detertmine whether we run the simulation only once or not.\n",
    "number_of_runs = 20 # only relevant if we are running it multiple times.\n",
    "confidence_level = 0.95 # The confidence interval of our results if we run multiple times."
   ]
  },
  {
   "cell_type": "code",
   "execution_count": null,
   "id": "140cf23c",
   "metadata": {},
   "outputs": [],
   "source": [
    "# the seed : 4044800276\n",
    "seed = 4044800276 # It will be use to generate the same pseudo number over and over again.\n",
    "random.seed(seed)\n",
    "arrival_amount = 200 # The number of clients that arrive to the hospital.\n",
    "                      # This is used as our simulation is a discrete event simulation.\n",
    "S = 3 # Number of nurses.\n",
    "mu_a = 1.0 # Average patient arrival rate.\n",
    "mu_t = 0.416666667 # Average service rate of each nurse.\n",
    "mu_s = 0.16 # Average healing rate at home for stable patients.\n",
    "mu_ch = 2.0 # Average healing rate at home for critical patients.\n",
    "alpha = 1.0 # Alpha belong to an uniform distribution\n",
    "mu_cb = 0.15625 # Average healing rate at hospital.\n",
    "p1 = 0.25 # The chance of patient going home instead of hospital.\n",
    "hospital_capaticy = 6 # Number of beds in hospital"
   ]
  },
  {
   "cell_type": "code",
   "execution_count": null,
   "id": "ed015412",
   "metadata": {
    "lines_to_next_cell": 2
   },
   "outputs": [],
   "source": []
  },
  {
   "cell_type": "markdown",
   "id": "6c55f4d4",
   "metadata": {},
   "source": [
    "Now we will define variables that will be used to run the simulation."
   ]
  },
  {
   "cell_type": "code",
   "execution_count": null,
   "id": "ad6ef048",
   "metadata": {
    "lines_to_next_cell": 2
   },
   "outputs": [],
   "source": [
    "number_of_patients_in_nurse_queue = 0\n",
    "number_of_patients_to_be_evaluated = 0\n",
    "number_of_patients_at_home = 0\n",
    "number_of_patients_at_hospital = 0\n",
    "number_of_patients_to_arrive = arrival_amount"
   ]
  },
  {
   "cell_type": "code",
   "execution_count": null,
   "id": "82baeda2",
   "metadata": {},
   "outputs": [],
   "source": [
    "# Now we will define variables that will be given as the output.\n",
    "# We assume the starting time is 0.0\n",
    "triage_or_hospital_empty_ratio = 0.0\n",
    "triage_and_hospital_empty_ratio = 0.0\n",
    "critical_going_home_ratio = 0.0\n",
    "average_nurse_utilization = 0.0\n",
    "average_occupied_bed = 0.0\n",
    "patient_going_home_ratio = 0.0\n",
    "average_healing_time = 0.0"
   ]
  },
  {
   "cell_type": "code",
   "execution_count": null,
   "id": "9e79b076",
   "metadata": {},
   "outputs": [],
   "source": [
    "# We also need the mean and S values of these output variables. To do that we will put them in lists.\n",
    "triage_or_hospital_empty_ratio_list = []\n",
    "triage_and_hospital_empty_ratio_list = []\n",
    "critical_going_home_ratio_list = []\n",
    "average_nurse_utilization_list = []\n",
    "average_occupied_bed_list = []\n",
    "patient_going_home_ratio_list = []\n",
    "average_healing_time_list= []"
   ]
  },
  {
   "cell_type": "code",
   "execution_count": null,
   "id": "6de0c06a",
   "metadata": {},
   "outputs": [],
   "source": [
    "# Now we will define variables that will be used to calculate outputs.\n",
    "current_time = 0.0\n",
    "amount_of_time_triage_or_hospital_is_empty = 0.0\n",
    "amount_of_time_triage_and_hospital_is_empty = 0.0\n",
    "total_occupied_bed_times_time = 0.0\n",
    "total_number_of_patinets_treated = 0\n",
    "total_number_of_patinets_treated_at_home = 0\n",
    "total_number_of_critical_patinets = 0\n",
    "total_number_of_critical_patinets_going_home = 0"
   ]
  },
  {
   "cell_type": "code",
   "execution_count": null,
   "id": "b9fe79e9",
   "metadata": {},
   "outputs": [],
   "source": []
  },
  {
   "cell_type": "code",
   "execution_count": null,
   "id": "4ece9f9e",
   "metadata": {
    "lines_to_next_cell": 1
   },
   "outputs": [],
   "source": [
    "def Reverse_EXP_CDF( x, rate): # Make sure x is between 0 and 1.\n",
    "    return -(math.log(1-x)/rate)"
   ]
  },
  {
   "cell_type": "code",
   "execution_count": null,
   "id": "ba0fd2ff",
   "metadata": {
    "lines_to_next_cell": 1
   },
   "outputs": [],
   "source": [
    "def Generate_Interarrival(rate = mu_a): # To return interarrival times of sick people arriving at the hospital.\n",
    "                                       # Default rate is 1 patient per hour on average\n",
    "    return Reverse_EXP_CDF(random.random(),rate)"
   ]
  },
  {
   "cell_type": "code",
   "execution_count": null,
   "id": "98817f9a",
   "metadata": {
    "lines_to_next_cell": 1
   },
   "outputs": [],
   "source": [
    "def Generate_Nurse_Service_Time(rate = mu_t): # To return service times for people being served at one of the triage nurses.\n",
    "    return Reverse_EXP_CDF(random.random(),rate) "
   ]
  },
  {
   "cell_type": "code",
   "execution_count": null,
   "id": "e2bb1d19",
   "metadata": {
    "lines_to_next_cell": 1
   },
   "outputs": [],
   "source": [
    "def Generate_Hospital_Healing_Time(rate = mu_cb): # To return healing times for people being treated in the hospital bed.\n",
    "    return Reverse_EXP_CDF(random.random(),rate) "
   ]
  },
  {
   "cell_type": "code",
   "execution_count": null,
   "id": "0564a3b1",
   "metadata": {
    "lines_to_next_cell": 1
   },
   "outputs": [],
   "source": [
    "def Generate_Home_Healing_Time(type,rate = 1.0):  # To return healing times for people that take self care at\n",
    "                                    # home. The function takes the input s for people that were found to be in stable condition\n",
    "                                    # and sent back home by the triage nurse and the input c for people that were found to be\n",
    "                                    # in critical condition but could not nd a bed.\n",
    "    if(type == 's'):\n",
    "        return Reverse_EXP_CDF(random.random(),mu_s) # For patients in stable condition.\n",
    "    if(type == 'c'):\n",
    "        return Reverse_EXP_CDF(random.random(),mu_cb) # For patients in critical condition."
   ]
  },
  {
   "cell_type": "code",
   "execution_count": null,
   "id": "c7865aab",
   "metadata": {},
   "outputs": [],
   "source": [
    "# Now we will generate the future event list.\n",
    "future_event_list = [] # The list will contain tuples of times and event codes.\n",
    "# Different events have different codes.\n",
    "# 1: arrival\n",
    "# 2: departure triage\n",
    "# 3: treated at hospital\n",
    "# 4: treated at home"
   ]
  },
  {
   "cell_type": "code",
   "execution_count": null,
   "id": "e454559c",
   "metadata": {
    "lines_to_next_cell": 1
   },
   "outputs": [],
   "source": [
    "event_names = [\"\",\"arrival\",\"departure triage\",\"treated at hospital\",\"treated at home\"] # For display"
   ]
  },
  {
   "cell_type": "code",
   "execution_count": null,
   "id": "062dfe27",
   "metadata": {
    "lines_to_next_cell": 1
   },
   "outputs": [],
   "source": [
    "def Display_Future_Event_List(): # This function is added for the sule purpose of increasing the readibility of the output.\n",
    "    print(\"future event list:\")\n",
    "    if(len(future_event_list) == 0):\n",
    "        print(\"list is empty\")\n",
    "    for element in future_event_list:\n",
    "        time,code = element\n",
    "        print(\"time:\",time,\"\\tevent:\",event_names[code])\n",
    "    print(\"---\")"
   ]
  },
  {
   "cell_type": "code",
   "execution_count": null,
   "id": "7d1396bd",
   "metadata": {
    "lines_to_next_cell": 1
   },
   "outputs": [],
   "source": [
    "def Display_Current_State(): # This function exists to make displaying output easier\n",
    "    global current_time\n",
    "    global number_of_patients_to_be_evaluated\n",
    "    global number_of_patients_in_nurse_queue\n",
    "    global number_of_patients_at_home\n",
    "    global number_of_patients_at_hospital\n",
    "    print(\"------------------\")\n",
    "    Display_Future_Event_List()\n",
    "    print(\"current time:\",current_time)\n",
    "    print(\"number of patients to be evaluated:\",number_of_patients_to_be_evaluated)\n",
    "    print(\"number of patients in nurse queue:\",number_of_patients_in_nurse_queue)\n",
    "    print(\"number of patients at home:\",number_of_patients_at_home)\n",
    "    print(\"number of patients at hospital:\",number_of_patients_at_hospital)\n",
    "    print(\"------------------\")\n",
    "    return"
   ]
  },
  {
   "cell_type": "code",
   "execution_count": null,
   "id": "1cf3e607",
   "metadata": {
    "lines_to_next_cell": 1
   },
   "outputs": [],
   "source": [
    "def Add_Event(time,code): # time is the time of the event , code is the type of the event.\n",
    "    future_event_list.append((time,code))\n",
    "    i = len(future_event_list)-1 # This is done to sort things by date.\n",
    "    while(i > 0):\n",
    "        time1,code1 = future_event_list[i]\n",
    "        time2,code2 = future_event_list[i-1]\n",
    "        if(time1 < time2):\n",
    "            future_event_list[i] = (time2,code2)\n",
    "            future_event_list[i-1] = (time1,code1)\n",
    "        i -= 1\n",
    "    return"
   ]
  },
  {
   "cell_type": "code",
   "execution_count": null,
   "id": "2bfc5887",
   "metadata": {
    "lines_to_next_cell": 1
   },
   "outputs": [],
   "source": [
    "def Arrival(event_time): # To execute the arrival process of a patient to the hospital. Event code is 1\n",
    "    global number_of_patients_in_nurse_queue\n",
    "    global number_of_patients_to_arrive\n",
    "    global number_of_patients_to_be_evaluated\n",
    "    global average_nurse_utilization\n",
    "    number_of_patients_to_arrive -= 1\n",
    "    number_of_patients_to_be_evaluated += 1\n",
    "    if number_of_patients_to_arrive > 0:\n",
    "        Add_Event(event_time+Generate_Interarrival(),1) # The arrival of next patient\n",
    "    if(number_of_patients_to_be_evaluated <= S): # If there is enough nurses.\n",
    "        nurse_service_time = Generate_Nurse_Service_Time()\n",
    "        Add_Event(event_time+nurse_service_time,2) # The departure of patient\n",
    "        average_nurse_utilization = (average_nurse_utilization*S*event_time + nurse_service_time)/(S*(event_time + nurse_service_time)) # Calculating average nurse utilization.\n",
    "         \n",
    "    else:\n",
    "        number_of_patients_in_nurse_queue += 1 # If all nurses are busy, we put the patient ina waiting queue.It's first in first out."
   ]
  },
  {
   "cell_type": "code",
   "execution_count": null,
   "id": "08ceef2d",
   "metadata": {
    "lines_to_next_cell": 1
   },
   "outputs": [],
   "source": [
    "def Departure_Triage(event_time): # To execute the departure process of a customer from a triage nurse. Event code is 2\n",
    "    global alpha\n",
    "    global mu_ch\n",
    "    global number_of_patients_in_nurse_queue\n",
    "    global number_of_patients_to_be_evaluated\n",
    "    global number_of_patients_at_hospital\n",
    "    global number_of_patients_at_home\n",
    "    global total_number_of_critical_patinets\n",
    "    global total_number_of_critical_patinets_going_home\n",
    "    global total_occupied_bed_times_time\n",
    "    global average_healing_time\n",
    "    global average_nurse_utilization\n",
    "    number_of_patients_to_be_evaluated -= 1\n",
    "\n",
    "    if(random.random() > p1): # To determine whether a patient is n critical condition.\n",
    "        total_number_of_critical_patinets += 1\n",
    "        if(hospital_capaticy >= number_of_patients_at_hospital):\n",
    "            number_of_patients_at_hospital += 1\n",
    "            healing_time = Generate_Hospital_Healing_Time()\n",
    "            Add_Event(event_time+healing_time,3) # The treatment in hospital.\n",
    "            average_healing_time = (average_healing_time*total_number_of_patinets_treated+healing_time)/(total_number_of_patinets_treated+1) # Calculating average healing time.\n",
    "            total_occupied_bed_times_time += healing_time # Calculating  total_occupied_bed_times_time. This type of calculation shouldn't lead to an error as we finish the sumilation after everyone has left the hospital.\n",
    "        else:\n",
    "            number_of_patients_at_home += 1\n",
    "            total_number_of_critical_patinets_going_home += 1\n",
    "            alpha = random.random()*0.5+1.25\n",
    "            mu_ch = mu_cb * alpha\n",
    "            healing_time = Generate_Home_Healing_Time('c')\n",
    "            Add_Event(event_time+healing_time,4) # The treatment in home due to bed inavaiblitiy. Critical condition.\n",
    "            average_healing_time = (average_healing_time*total_number_of_patinets_treated+healing_time)/(total_number_of_patinets_treated+1) # Calculating average healing time.\n",
    "    else:\n",
    "        number_of_patients_at_home += 1\n",
    "        alpha = random.random()*0.5+1.25\n",
    "        mu_ch = mu_cb * alpha\n",
    "        healing_time = Generate_Home_Healing_Time('s')\n",
    "        Add_Event(event_time+healing_time,4) # The treatment in home due to patient contidion. Stable Condition\n",
    "        average_healing_time = (average_healing_time*total_number_of_patinets_treated+healing_time)/(total_number_of_patinets_treated+1)\n",
    "\n",
    "            \n",
    "    # Now we will appoint another departure even for a patient in waiting queue (If there is any).\n",
    "    if number_of_patients_in_nurse_queue > 0:\n",
    "        number_of_patients_in_nurse_queue -= 1 # One less patient in the queue.\n",
    "        nurse_service_time = Generate_Nurse_Service_Time()\n",
    "        Add_Event(event_time+nurse_service_time,2) # Then we appoint a eparture for that patient.\n",
    "        average_nurse_utilization = (average_nurse_utilization*S*event_time + nurse_service_time)/(S*(event_time + nurse_service_time)) # Calculating average nurse utilization."
   ]
  },
  {
   "cell_type": "code",
   "execution_count": null,
   "id": "e05b9816",
   "metadata": {
    "lines_to_next_cell": 1
   },
   "outputs": [],
   "source": [
    "def Treated_at_Hospital(event_time): # To execute the discharge process of a customer from a bed. Event code is 3\n",
    "    global number_of_patients_at_hospital\n",
    "    global total_number_of_patinets_treated\n",
    "    number_of_patients_at_hospital -= 1\n",
    "    total_number_of_patinets_treated += 1"
   ]
  },
  {
   "cell_type": "code",
   "execution_count": null,
   "id": "ff91671a",
   "metadata": {
    "lines_to_next_cell": 1
   },
   "outputs": [],
   "source": [
    "def Treated_at_Home(event_time): # To execute the discharge process of a customer from the house. Event code is 4\n",
    "    global number_of_patients_at_home\n",
    "    global total_number_of_patinets_treated\n",
    "    global total_number_of_patinets_treated_at_home\n",
    "    number_of_patients_at_home -= 1\n",
    "    total_number_of_patinets_treated += 1\n",
    "    total_number_of_patinets_treated_at_home += 1"
   ]
  },
  {
   "cell_type": "code",
   "execution_count": null,
   "id": "df3c525a",
   "metadata": {
    "lines_to_next_cell": 1
   },
   "outputs": [],
   "source": [
    "def Advance_Time(): # To advance the time to the next imminent event in the future event list. Return whether it executed an event or not.\n",
    "    global current_time\n",
    "    global amount_of_time_triage_and_hospital_is_empty\n",
    "    global amount_of_time_triage_or_hospital_is_empty\n",
    "    if len(future_event_list) == 0:\n",
    "        return False\n",
    "    event_time,event_code = future_event_list.pop(0)\n",
    "    \n",
    "    # Now we will update some total time variables.\n",
    "    # We do this before current time is updated.\n",
    "    if(number_of_patients_to_be_evaluated == 0 and number_of_patients_at_hospital == 0):\n",
    "        amount_of_time_triage_and_hospital_is_empty += event_time - current_time\n",
    "    \n",
    "    if(number_of_patients_to_be_evaluated == 0 or number_of_patients_at_hospital == 0):\n",
    "        amount_of_time_triage_or_hospital_is_empty += event_time - current_time\n",
    "    \n",
    "    if(event_code == 1):\n",
    "        Arrival(event_time)\n",
    "    if(event_code == 2):\n",
    "        Departure_Triage(event_time)\n",
    "    if(event_code == 3):\n",
    "        Treated_at_Hospital(event_time)\n",
    "    if(event_code == 4):\n",
    "        Treated_at_Home(event_time)\n",
    "    current_time = event_time\n",
    "    return True "
   ]
  },
  {
   "cell_type": "code",
   "execution_count": null,
   "id": "4d984503",
   "metadata": {},
   "outputs": [],
   "source": [
    "def Execute_Event(): # Iterates through the future event list and executes the next imminent process.\n",
    "    # Didn't need to add anything here as advancing time also executes events.\n",
    "    pass"
   ]
  },
  {
   "cell_type": "code",
   "execution_count": null,
   "id": "cd44c28e",
   "metadata": {
    "lines_to_next_cell": 2
   },
   "outputs": [],
   "source": []
  },
  {
   "cell_type": "markdown",
   "id": "fedcf038",
   "metadata": {},
   "source": [
    "Now we will determine whether we will run the simulation once or multiple time."
   ]
  },
  {
   "cell_type": "code",
   "execution_count": null,
   "id": "9b407891",
   "metadata": {},
   "outputs": [],
   "source": [
    "if (run_multiple_times == False):\n",
    "    current_time = 0.0 # To reset the simulation.\n",
    "    Add_Event(Generate_Interarrival(),1)\n",
    "    Display_Current_State()\n",
    "\n",
    "    while(Advance_Time()):  \n",
    "        Display_Current_State()\n",
    "    \n",
    "    triage_or_hospital_empty_ratio = amount_of_time_triage_or_hospital_is_empty/current_time\n",
    "    triage_and_hospital_empty_ratio = amount_of_time_triage_and_hospital_is_empty/current_time\n",
    "    critical_going_home_ratio = total_number_of_critical_patinets_going_home/total_number_of_critical_patinets\n",
    "    patient_going_home_ratio = total_number_of_patinets_treated_at_home/total_number_of_patinets_treated\n",
    "    average_occupied_bed = total_occupied_bed_times_time/current_time\n",
    "    \n",
    "    print(\"Results:\")\n",
    "    print(\"triage or hospital empty ratio:\",triage_or_hospital_empty_ratio)\n",
    "    print(\"triage and hospital empty ratio:\",triage_and_hospital_empty_ratio)\n",
    "    print(\"critical going home ratio:\",critical_going_home_ratio)\n",
    "    print(\"average nurse utilization:\",average_nurse_utilization)\n",
    "    print(\"average occupied bed:\",average_occupied_bed)\n",
    "    print(\"patient going home ratio:\",patient_going_home_ratio)\n",
    "    print(\"average healing time:\",average_healing_time)\n",
    "else: # If there are multiple runs, we will calculate the mean and S value of outputs to create a confidence interval\n",
    "    number_of_runs_executed = 0 # it determines how many runs have been executed so far. also used for seed generation.\n",
    "    while(number_of_runs_executed < number_of_runs):\n",
    "        random.seed(seed+number_of_runs_executed) # To reset the seed.\n",
    "        number_of_patients_to_arrive = arrival_amount # To reset the patients.\n",
    "        current_time = 0.0 # To reset the simulation.\n",
    "        # Now we will reset all the variables that are used to calculate the outputs and the outputs themselves\n",
    "        triage_or_hospital_empty_ratio = 0.0\n",
    "        triage_and_hospital_empty_ratio = 0.0\n",
    "        critical_going_home_ratio = 0.0\n",
    "        average_nurse_utilization = 0.0\n",
    "        average_occupied_bed = 0.0\n",
    "        patient_going_home_ratio = 0.0\n",
    "        average_healing_time = 0.0\n",
    "        \n",
    "        amount_of_time_triage_or_hospital_is_empty = 0.0\n",
    "        amount_of_time_triage_and_hospital_is_empty = 0.0\n",
    "        total_occupied_bed_times_time = 0.0\n",
    "        total_number_of_patinets_treated = 0\n",
    "        total_number_of_patinets_treated_at_home = 0\n",
    "        total_number_of_critical_patinets = 0\n",
    "        total_number_of_critical_patinets_going_home = 0\n",
    "        Add_Event(Generate_Interarrival(),1)\n",
    "        while(Advance_Time()): # We are advancing through events  \n",
    "            pass\n",
    "        # Now we will calculate the output of each run.\n",
    "        triage_or_hospital_empty_ratio = amount_of_time_triage_or_hospital_is_empty/current_time\n",
    "        triage_and_hospital_empty_ratio = amount_of_time_triage_and_hospital_is_empty/current_time\n",
    "        critical_going_home_ratio = total_number_of_critical_patinets_going_home/total_number_of_critical_patinets\n",
    "        patient_going_home_ratio = total_number_of_patinets_treated_at_home/total_number_of_patinets_treated\n",
    "        average_occupied_bed = total_occupied_bed_times_time/current_time\n",
    "        \n",
    "        # Then we will fill our output lists.\n",
    "        triage_or_hospital_empty_ratio_list.append(triage_or_hospital_empty_ratio)\n",
    "        triage_and_hospital_empty_ratio_list.append(triage_and_hospital_empty_ratio)\n",
    "        critical_going_home_ratio_list.append(critical_going_home_ratio)\n",
    "        average_nurse_utilization_list.append(average_nurse_utilization)\n",
    "        average_occupied_bed_list.append(average_occupied_bed)\n",
    "        patient_going_home_ratio_list.append(patient_going_home_ratio)\n",
    "        average_healing_time_list.append(average_healing_time)\n",
    "        \n",
    "        number_of_runs_executed += 1\n",
    "        \n",
    "    # Now it's time to calculate the means , S values and confidence intervals.\n",
    "    triage_or_hospital_empty_ratio_mean = 0.0\n",
    "    triage_and_hospital_empty_ratio_mean = 0.0\n",
    "    critical_going_home_ratio_mean = 0.0\n",
    "    average_nurse_utilization_mean = 0.0\n",
    "    average_occupied_bed_mean = 0.0\n",
    "    patient_going_home_ratio_mean = 0.0\n",
    "    average_healing_time_mean = 0.0\n",
    "    \n",
    "    triage_or_hospital_empty_ratio_variance = 0.0\n",
    "    triage_and_hospital_empty_ratio_variance = 0.0\n",
    "    critical_going_home_ratio_variance = 0.0\n",
    "    average_nurse_utilization_variance = 0.0\n",
    "    average_occupied_bed_variance = 0.0\n",
    "    patient_going_home_ratio_variance = 0.0\n",
    "    average_healing_time_variance = 0.0\n",
    "    \n",
    "    triage_or_hospital_empty_ratio_interval = [0.0,0.0]\n",
    "    triage_and_hospital_empty_ratio_interval = [0.0,0.0]\n",
    "    critical_going_home_ratio_interval = [0.0,0.0]\n",
    "    average_nurse_utilization_interval = [0.0,0.0]\n",
    "    average_occupied_bed_interval = [0.0,0.0]\n",
    "    patient_going_home_ratio_interval = [0.0,0.0]\n",
    "    average_healing_time_interval = [0.0,0.0]\n",
    "    \n",
    "    # Now we will calculate means.\n",
    "    \n",
    "    for i in range(number_of_runs):\n",
    "        triage_or_hospital_empty_ratio_mean += triage_or_hospital_empty_ratio_list[i]/number_of_runs\n",
    "        triage_and_hospital_empty_ratio_mean += triage_and_hospital_empty_ratio_list[i]/number_of_runs\n",
    "        critical_going_home_ratio_mean += critical_going_home_ratio_list[i]/number_of_runs\n",
    "        average_nurse_utilization_mean += average_nurse_utilization_list[i]/number_of_runs\n",
    "        average_occupied_bed_mean += average_occupied_bed_list[i]/number_of_runs\n",
    "        patient_going_home_ratio_mean += patient_going_home_ratio_list[i]/number_of_runs\n",
    "        average_healing_time_mean += average_healing_time_list[i]/number_of_runs\n",
    "        \n",
    "    # Now we will calculate S values.\n",
    "        \n",
    "    for i in range(number_of_runs):\n",
    "        triage_or_hospital_empty_ratio_variance += (triage_or_hospital_empty_ratio_mean - triage_or_hospital_empty_ratio_list[i])**2 / (number_of_runs-1)\n",
    "        triage_and_hospital_empty_ratio_variance += (triage_and_hospital_empty_ratio_mean - triage_and_hospital_empty_ratio_list[i])**2 / (number_of_runs-1)\n",
    "        critical_going_home_ratio_variance += (critical_going_home_ratio_mean - critical_going_home_ratio_list[i])**2 / (number_of_runs-1)\n",
    "        average_nurse_utilization_variance += (average_nurse_utilization_mean - average_nurse_utilization_list[i])**2 / (number_of_runs-1)\n",
    "        average_occupied_bed_variance += (average_occupied_bed_mean - average_occupied_bed_list[i])**2 / (number_of_runs-1)\n",
    "        patient_going_home_ratio_variance += (patient_going_home_ratio_mean -  patient_going_home_ratio_list[i])**2 / (number_of_runs-1)\n",
    "        average_healing_time_variance += (average_healing_time_mean - average_healing_time_list[i])**2 / (number_of_runs-1)\n",
    "    \n",
    "    triage_or_hospital_empty_ratio_variance = math.sqrt(triage_or_hospital_empty_ratio_variance)\n",
    "    triage_and_hospital_empty_ratio_variance = math.sqrt(triage_and_hospital_empty_ratio_variance)\n",
    "    critical_going_home_ratio_variance = math.sqrt(critical_going_home_ratio_variance)\n",
    "    average_nurse_utilization_variance = math.sqrt(average_nurse_utilization_variance)\n",
    "    average_occupied_bed_variance = math.sqrt(average_occupied_bed_variance)\n",
    "    patient_going_home_ratio_variance = math.sqrt(patient_going_home_ratio_variance)\n",
    "    average_healing_time_variance = math.sqrt(average_healing_time_variance)\n",
    "    \n",
    "    # Now we will calculate the confidence intervals. We will approximate T distibutions with normal distribution.\n",
    "    z_value = numpy.random.normal((1-confidence_level)/2) # To not calculate to same value over and over again\n",
    "    \n",
    "    triage_or_hospital_empty_ratio_interval[0] = triage_or_hospital_empty_ratio_mean - z_value*(triage_or_hospital_empty_ratio_variance/math.sqrt(number_of_runs))\n",
    "    triage_or_hospital_empty_ratio_interval[1] = triage_or_hospital_empty_ratio_mean + z_value*(triage_or_hospital_empty_ratio_variance/math.sqrt(number_of_runs))\n",
    "    \n",
    "    triage_and_hospital_empty_ratio_interval[0] =  triage_and_hospital_empty_ratio_mean - z_value*(triage_and_hospital_empty_ratio_variance/math.sqrt(number_of_runs))\n",
    "    triage_and_hospital_empty_ratio_interval[1] = triage_and_hospital_empty_ratio_mean + z_value*(triage_and_hospital_empty_ratio_variance/math.sqrt(number_of_runs))\n",
    "    \n",
    "    critical_going_home_ratio_interval[0] = critical_going_home_ratio_mean - z_value*(critical_going_home_ratio_variance/math.sqrt(number_of_runs))\n",
    "    critical_going_home_ratio_interval[1] = critical_going_home_ratio_mean + z_value*(critical_going_home_ratio_variance/math.sqrt(number_of_runs))\n",
    "    \n",
    "    average_nurse_utilization_interval[0] = average_nurse_utilization_mean - z_value*(average_nurse_utilization_variance/math.sqrt(number_of_runs))\n",
    "    average_nurse_utilization_interval[1] = average_nurse_utilization_mean + z_value*(average_nurse_utilization_variance/math.sqrt(number_of_runs))\n",
    "    \n",
    "    average_occupied_bed_interval[0] = average_occupied_bed_mean - z_value*(average_occupied_bed_variance/math.sqrt(number_of_runs))\n",
    "    average_occupied_bed_interval[1] = average_occupied_bed_mean + z_value*(average_occupied_bed_variance/math.sqrt(number_of_runs))\n",
    "    \n",
    "    patient_going_home_ratio_interval[0] = patient_going_home_ratio_mean - z_value*(patient_going_home_ratio_variance/math.sqrt(number_of_runs))\n",
    "    patient_going_home_ratio_interval[1] = patient_going_home_ratio_mean + z_value*(patient_going_home_ratio_variance/math.sqrt(number_of_runs))\n",
    "    \n",
    "    average_healing_time_interval[0] = average_healing_time_mean - z_value*(average_healing_time_variance/math.sqrt(number_of_runs))\n",
    "    average_healing_time_interval[1] = average_healing_time_mean + z_value*(average_healing_time_variance/math.sqrt(number_of_runs))\n",
    "    \n",
    "    print(\"Results after\",number_of_runs,\"runs:\")\n",
    "    print(\"mean triage or hospital empty ratio:\",triage_or_hospital_empty_ratio_mean)\n",
    "    print(\"mean triage and hospital empty ratio:\",triage_and_hospital_empty_ratio_mean)\n",
    "    print(\"mean critical going home ratio:\",critical_going_home_ratio_mean)\n",
    "    print(\"mean average nurse utilization:\",average_nurse_utilization_mean)\n",
    "    print(\"mean average occupied bed:\",average_occupied_bed_mean)\n",
    "    print(\"mean patient going home ratio:\",patient_going_home_ratio_mean)\n",
    "    print(\"mean average healing time:\",average_healing_time_mean)\n",
    "    print(\"---\")\n",
    "    print(\"triage or hospital empty ratio variance:\",triage_or_hospital_empty_ratio_variance)\n",
    "    print(\"triage and hospital empty ratio variance:\",triage_and_hospital_empty_ratio_variance)\n",
    "    print(\"critical going home ratio variance:\",critical_going_home_ratio_variance)\n",
    "    print(\"average nurse utilization variance:\",average_nurse_utilization_variance)\n",
    "    print(\"average occupied bed variance:\",average_occupied_bed_variance)\n",
    "    print(\"patient going home ratio variance:\",patient_going_home_ratio_variance)\n",
    "    print(\"average healing time variance:\",average_healing_time_variance)\n",
    "    print(\"------------------\")\n",
    "    print(f\"The confidence intervals with %{int(confidence_level*100)} condifence level:\")\n",
    "    print(f\"triage or hospital empty ratio interval: [{triage_or_hospital_empty_ratio_interval[0]},{triage_or_hospital_empty_ratio_interval[1]}]\")\n",
    "    print(f\"triage and hospital empty ratio interval: [{triage_and_hospital_empty_ratio_interval[0]},{triage_and_hospital_empty_ratio_interval[1]}]\")\n",
    "    print(f\"critical going home ratio interval: [{critical_going_home_ratio_interval[0]},{critical_going_home_ratio_interval[1]}]\")\n",
    "    print(f\"average nurse utilization interval: [{average_nurse_utilization_interval[0]},{average_nurse_utilization_interval[1]}]\")\n",
    "    print(f\"average occupied bed interval: [{average_occupied_bed_interval[0]},{average_occupied_bed_interval[1]}]\")\n",
    "    print(f\"patient going home ratio interval: [{patient_going_home_ratio_interval[0]},{patient_going_home_ratio_interval[1]}]\")\n",
    "    print(f\"average healing time interval: [{average_healing_time_interval[0]},{average_healing_time_interval[1]}]\")"
   ]
  },
  {
   "cell_type": "code",
   "execution_count": null,
   "id": "e629fa12",
   "metadata": {},
   "outputs": [],
   "source": [
    "       "
   ]
  },
  {
   "cell_type": "code",
   "execution_count": null,
   "id": "c363d29e",
   "metadata": {},
   "outputs": [],
   "source": [
    "    "
   ]
  }
 ],
 "metadata": {
  "jupytext": {
   "cell_metadata_filter": "-all",
   "main_language": "python",
   "notebook_metadata_filter": "-all"
  }
 },
 "nbformat": 4,
 "nbformat_minor": 5
}
